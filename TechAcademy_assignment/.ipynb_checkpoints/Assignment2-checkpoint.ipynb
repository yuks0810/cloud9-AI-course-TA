{
 "cells": [
  {
   "cell_type": "markdown",
   "metadata": {},
   "source": [
    "<H2>課題2: 予測モデルの作成</H2>\n",
    "<p>本課題では課題1と同じデータを用いてデータ分析の流れを確認します。</p>\n",
    "<p>2章で学んだ内容を踏まえ、各セルに入っているコメントを実行するコードを記入してください。</p>"
   ]
  },
  {
   "cell_type": "markdown",
   "metadata": {},
   "source": [
    "<H2>1. 必要なモジュールを読み込む</H2>"
   ]
  },
  {
   "cell_type": "code",
   "execution_count": 20,
   "metadata": {},
   "outputs": [],
   "source": [
    "import copy\n",
    "\n",
    "import matplotlib\n",
    "import matplotlib.pyplot as plt\n",
    "import numpy as np\n",
    "import pandas as pd\n",
    "\n",
    "matplotlib.style.use('ggplot')\n",
    "\n",
    "from sklearn.linear_model import LinearRegression\n",
    "from sklearn.tree import DecisionTreeRegressor\n",
    "from sklearn.ensemble import RandomForestRegressor\n",
    "\n",
    "from sklearn.model_selection import GridSearchCV\n",
    "from sklearn.model_selection import train_test_split\n",
    "from sklearn.metrics import mean_squared_error\n",
    "\n",
    "%matplotlib inline"
   ]
  },
  {
   "cell_type": "markdown",
   "metadata": {},
   "source": [
    "<H2>2. データの読み込み</H2>\n",
    "<p> pandasにはread_csvという関数が用意されており、それを用いれば簡単にCSVファイルを読み込むことができます</p>\n",
    "<p>データはdatasetフォルダ直下にある\"kaggle_housing_price.csv\"を使用します。</p>"
   ]
  },
  {
   "cell_type": "code",
   "execution_count": 21,
   "metadata": {},
   "outputs": [],
   "source": [
    "# データ読み込み\n",
    "dataset = pd.read_csv('kaggle_housing_price.csv')"
   ]
  },
  {
   "cell_type": "code",
   "execution_count": 22,
   "metadata": {},
   "outputs": [
    {
     "data": {
      "text/html": [
       "<div>\n",
       "<style scoped>\n",
       "    .dataframe tbody tr th:only-of-type {\n",
       "        vertical-align: middle;\n",
       "    }\n",
       "\n",
       "    .dataframe tbody tr th {\n",
       "        vertical-align: top;\n",
       "    }\n",
       "\n",
       "    .dataframe thead th {\n",
       "        text-align: right;\n",
       "    }\n",
       "</style>\n",
       "<table border=\"1\" class=\"dataframe\">\n",
       "  <thead>\n",
       "    <tr style=\"text-align: right;\">\n",
       "      <th></th>\n",
       "      <th>Id</th>\n",
       "      <th>MSSubClass</th>\n",
       "      <th>MSZoning</th>\n",
       "      <th>LotFrontage</th>\n",
       "      <th>LotArea</th>\n",
       "      <th>Street</th>\n",
       "      <th>Alley</th>\n",
       "      <th>LotShape</th>\n",
       "      <th>LandContour</th>\n",
       "      <th>Utilities</th>\n",
       "      <th>...</th>\n",
       "      <th>PoolArea</th>\n",
       "      <th>PoolQC</th>\n",
       "      <th>Fence</th>\n",
       "      <th>MiscFeature</th>\n",
       "      <th>MiscVal</th>\n",
       "      <th>MoSold</th>\n",
       "      <th>YrSold</th>\n",
       "      <th>SaleType</th>\n",
       "      <th>SaleCondition</th>\n",
       "      <th>SalePrice</th>\n",
       "    </tr>\n",
       "  </thead>\n",
       "  <tbody>\n",
       "    <tr>\n",
       "      <th>0</th>\n",
       "      <td>1</td>\n",
       "      <td>60</td>\n",
       "      <td>RL</td>\n",
       "      <td>65.0</td>\n",
       "      <td>8450</td>\n",
       "      <td>Pave</td>\n",
       "      <td>NaN</td>\n",
       "      <td>Reg</td>\n",
       "      <td>Lvl</td>\n",
       "      <td>AllPub</td>\n",
       "      <td>...</td>\n",
       "      <td>0</td>\n",
       "      <td>NaN</td>\n",
       "      <td>NaN</td>\n",
       "      <td>NaN</td>\n",
       "      <td>0</td>\n",
       "      <td>2</td>\n",
       "      <td>2008</td>\n",
       "      <td>WD</td>\n",
       "      <td>Normal</td>\n",
       "      <td>208500</td>\n",
       "    </tr>\n",
       "    <tr>\n",
       "      <th>1</th>\n",
       "      <td>2</td>\n",
       "      <td>20</td>\n",
       "      <td>RL</td>\n",
       "      <td>80.0</td>\n",
       "      <td>9600</td>\n",
       "      <td>Pave</td>\n",
       "      <td>NaN</td>\n",
       "      <td>Reg</td>\n",
       "      <td>Lvl</td>\n",
       "      <td>AllPub</td>\n",
       "      <td>...</td>\n",
       "      <td>0</td>\n",
       "      <td>NaN</td>\n",
       "      <td>NaN</td>\n",
       "      <td>NaN</td>\n",
       "      <td>0</td>\n",
       "      <td>5</td>\n",
       "      <td>2007</td>\n",
       "      <td>WD</td>\n",
       "      <td>Normal</td>\n",
       "      <td>181500</td>\n",
       "    </tr>\n",
       "    <tr>\n",
       "      <th>2</th>\n",
       "      <td>3</td>\n",
       "      <td>60</td>\n",
       "      <td>RL</td>\n",
       "      <td>68.0</td>\n",
       "      <td>11250</td>\n",
       "      <td>Pave</td>\n",
       "      <td>NaN</td>\n",
       "      <td>IR1</td>\n",
       "      <td>Lvl</td>\n",
       "      <td>AllPub</td>\n",
       "      <td>...</td>\n",
       "      <td>0</td>\n",
       "      <td>NaN</td>\n",
       "      <td>NaN</td>\n",
       "      <td>NaN</td>\n",
       "      <td>0</td>\n",
       "      <td>9</td>\n",
       "      <td>2008</td>\n",
       "      <td>WD</td>\n",
       "      <td>Normal</td>\n",
       "      <td>223500</td>\n",
       "    </tr>\n",
       "    <tr>\n",
       "      <th>3</th>\n",
       "      <td>4</td>\n",
       "      <td>70</td>\n",
       "      <td>RL</td>\n",
       "      <td>60.0</td>\n",
       "      <td>9550</td>\n",
       "      <td>Pave</td>\n",
       "      <td>NaN</td>\n",
       "      <td>IR1</td>\n",
       "      <td>Lvl</td>\n",
       "      <td>AllPub</td>\n",
       "      <td>...</td>\n",
       "      <td>0</td>\n",
       "      <td>NaN</td>\n",
       "      <td>NaN</td>\n",
       "      <td>NaN</td>\n",
       "      <td>0</td>\n",
       "      <td>2</td>\n",
       "      <td>2006</td>\n",
       "      <td>WD</td>\n",
       "      <td>Abnorml</td>\n",
       "      <td>140000</td>\n",
       "    </tr>\n",
       "    <tr>\n",
       "      <th>4</th>\n",
       "      <td>5</td>\n",
       "      <td>60</td>\n",
       "      <td>RL</td>\n",
       "      <td>84.0</td>\n",
       "      <td>14260</td>\n",
       "      <td>Pave</td>\n",
       "      <td>NaN</td>\n",
       "      <td>IR1</td>\n",
       "      <td>Lvl</td>\n",
       "      <td>AllPub</td>\n",
       "      <td>...</td>\n",
       "      <td>0</td>\n",
       "      <td>NaN</td>\n",
       "      <td>NaN</td>\n",
       "      <td>NaN</td>\n",
       "      <td>0</td>\n",
       "      <td>12</td>\n",
       "      <td>2008</td>\n",
       "      <td>WD</td>\n",
       "      <td>Normal</td>\n",
       "      <td>250000</td>\n",
       "    </tr>\n",
       "  </tbody>\n",
       "</table>\n",
       "<p>5 rows × 81 columns</p>\n",
       "</div>"
      ],
      "text/plain": [
       "   Id  MSSubClass MSZoning  LotFrontage  LotArea Street Alley LotShape  \\\n",
       "0   1          60       RL         65.0     8450   Pave   NaN      Reg   \n",
       "1   2          20       RL         80.0     9600   Pave   NaN      Reg   \n",
       "2   3          60       RL         68.0    11250   Pave   NaN      IR1   \n",
       "3   4          70       RL         60.0     9550   Pave   NaN      IR1   \n",
       "4   5          60       RL         84.0    14260   Pave   NaN      IR1   \n",
       "\n",
       "  LandContour Utilities    ...     PoolArea PoolQC Fence MiscFeature MiscVal  \\\n",
       "0         Lvl    AllPub    ...            0    NaN   NaN         NaN       0   \n",
       "1         Lvl    AllPub    ...            0    NaN   NaN         NaN       0   \n",
       "2         Lvl    AllPub    ...            0    NaN   NaN         NaN       0   \n",
       "3         Lvl    AllPub    ...            0    NaN   NaN         NaN       0   \n",
       "4         Lvl    AllPub    ...            0    NaN   NaN         NaN       0   \n",
       "\n",
       "  MoSold YrSold  SaleType  SaleCondition  SalePrice  \n",
       "0      2   2008        WD         Normal     208500  \n",
       "1      5   2007        WD         Normal     181500  \n",
       "2      9   2008        WD         Normal     223500  \n",
       "3      2   2006        WD        Abnorml     140000  \n",
       "4     12   2008        WD         Normal     250000  \n",
       "\n",
       "[5 rows x 81 columns]"
      ]
     },
     "execution_count": 22,
     "metadata": {},
     "output_type": "execute_result"
    }
   ],
   "source": [
    "# データを最初の5行だけ表示\n",
    "dataset.head()"
   ]
  },
  {
   "cell_type": "markdown",
   "metadata": {},
   "source": [
    "<h2>3. データの前処理</h2>"
   ]
  },
  {
   "cell_type": "code",
   "execution_count": 23,
   "metadata": {},
   "outputs": [],
   "source": [
    "# 今回の解析では下記の列を使用することとします\n",
    "target_col = 'SalePrice'\n",
    "feature_cols = ['LotArea', 'OverallQual', 'OverallCond', 'YearBuilt', 'BsmtFinSF1', 'BsmtFinSF2', 'BsmtUnfSF',\n",
    "               'TotalBsmtSF', '1stFlrSF', '2ndFlrSF', 'GrLivArea', 'BsmtFullBath', 'BsmtHalfBath', 'FullBath', 'HalfBath',\n",
    "                'BedroomAbvGr', 'KitchenAbvGr', 'GarageCars']"
   ]
  },
  {
   "cell_type": "code",
   "execution_count": 24,
   "metadata": {
    "scrolled": true
   },
   "outputs": [],
   "source": [
    "# target_colとfeature_colsをarrayにして、それぞれをY、Xとする\n",
    "Y=np.array(dataset[target_col])\n",
    "X=np.array(dataset[feature_cols])"
   ]
  },
  {
   "cell_type": "code",
   "execution_count": 25,
   "metadata": {},
   "outputs": [],
   "source": [
    "# DataをTrain　: Test = 7　:　3に分ける\n",
    "X_train, X_test, Y_train, Y_test = \\\n",
    " train_test_split(X, Y, test_size=0.3, random_state=12)"
   ]
  },
  {
   "cell_type": "code",
   "execution_count": 26,
   "metadata": {},
   "outputs": [],
   "source": [
    "# Trainをさらに 7:3 に分ける\n",
    "X_train1, X_train2, Y_train1, Y_train2 = \\\n",
    " train_test_split(X_train, Y_train, test_size=0.3, random_state=12)\n",
    "#アルゴリズム選択、変数選択、ハイパーパラメータ選択のチューニングなどで精度を確認するために分けている"
   ]
  },
  {
   "cell_type": "markdown",
   "metadata": {},
   "source": [
    "\n",
    "<H2>4. アルゴリズムの選択 </H2>\n",
    "<p>回帰分析、決定木、ランダムフォレストを比較します</p>"
   ]
  },
  {
   "cell_type": "code",
   "execution_count": 27,
   "metadata": {},
   "outputs": [
    {
     "name": "stdout",
     "output_type": "stream",
     "text": [
      "LinearRegression MSE 954674413.3273504\n"
     ]
    }
   ],
   "source": [
    "# 回帰分析を実施しMSEを算出\n",
    "lm = LinearRegression()\n",
    "lm.fit(X_train1, Y_train1)\n",
    "Y_pred2 = lm.predict(X_train2)\n",
    "lm_mse = mean_squared_error(Y_train2, Y_pred2)\n",
    "print('LinearRegression MSE', lm_mse)\n"
   ]
  },
  {
   "cell_type": "code",
   "execution_count": 28,
   "metadata": {},
   "outputs": [
    {
     "name": "stdout",
     "output_type": "stream",
     "text": [
      "DT MSE 1443563964.583062\n"
     ]
    }
   ],
   "source": [
    "#決定木を実行し、MSEを算出\n",
    "dt = DecisionTreeRegressor()\n",
    "dt.fit(X_train1, Y_train1)\n",
    "Y_pred2 = dt.predict(X_train2)\n",
    "dt_mse = mean_squared_error(Y_train2, Y_pred2)\n",
    "print('DT MSE', dt_mse)"
   ]
  },
  {
   "cell_type": "code",
   "execution_count": 29,
   "metadata": {},
   "outputs": [
    {
     "name": "stdout",
     "output_type": "stream",
     "text": [
      "RandomForest MSE: RandomForestRegressor(bootstrap=True, criterion='mse', max_depth=None,\n",
      "           max_features='auto', max_leaf_nodes=None,\n",
      "           min_impurity_decrease=0.0, min_impurity_split=None,\n",
      "           min_samples_leaf=1, min_samples_split=2,\n",
      "           min_weight_fraction_leaf=0.0, n_estimators=10, n_jobs=1,\n",
      "           oob_score=False, random_state=12, verbose=0, warm_start=False)\n"
     ]
    }
   ],
   "source": [
    "# ランダムフォレストを実行し、MSEを算出\n",
    "rf = RandomForestRegressor(random_state=12)\n",
    "np.array(Y_train1)\n",
    "rf.fit(X_train1, Y_train1)\n",
    "Y_pred2 = rf.predict(X_train2)\n",
    "rf_mse = mean_squared_error(Y_train2, Y_pred2)\n",
    "print('RandomForest MSE:', rf)\n"
   ]
  },
  {
   "cell_type": "code",
   "execution_count": 30,
   "metadata": {},
   "outputs": [
    {
     "name": "stdout",
     "output_type": "stream",
     "text": [
      "821881960.4219254\n"
     ]
    }
   ],
   "source": [
    "print(rf_mse)"
   ]
  },
  {
   "cell_type": "code",
   "execution_count": 31,
   "metadata": {},
   "outputs": [
    {
     "data": {
      "text/plain": [
       "array([223500, 143000, 117000, 140000, 228000, 284000, 140000, 115000,\n",
       "       339750, 133000, 143000, 146800, 105500, 230000, 556581, 137450,\n",
       "       299800, 237500, 367294, 276000, 189950, 241000, 109500, 179500,\n",
       "       175900, 138800, 146000, 114500, 175500, 250000, 109900, 135960,\n",
       "       159500, 274900, 129000, 125000, 256000, 202900, 100000, 178000,\n",
       "       124900, 250000, 213000, 127000, 117000, 138000, 171900, 254900,\n",
       "        60000, 141000, 171000, 129900, 176000, 230000, 135000, 374000,\n",
       "       213490, 318000, 120000, 159000, 239000, 183900, 110000, 170000,\n",
       "       128000, 207500, 236000, 130500, 118000, 133700, 122000, 272000,\n",
       "       208500, 145500,  80000, 145000, 359100, 179000, 137000, 196500,\n",
       "       129000, 165000,  88000, 120000, 268000, 340000,  94000, 200000,\n",
       "       144000, 174000, 145000, 244000,  72500, 155000, 119000, 199900,\n",
       "       132000, 155000, 320000, 190000, 226000, 187500, 108000, 176500,\n",
       "       325000, 166000, 123600, 625000, 173000, 119500, 220000, 184000,\n",
       "       174000, 315000,  86000, 101800, 150000, 167000, 119900, 120000,\n",
       "       180000, 297000, 225000, 239900, 175500, 154300, 236500, 200100,\n",
       "       220000, 137000, 145000, 160000, 215200, 745000, 128000, 155000,\n",
       "       163900, 144500, 315000,  95000, 127500, 113000, 185000,  83500,\n",
       "       149000, 147400, 105000, 119000, 125500, 127500, 201000, 139000,\n",
       "       131500, 197900, 157900, 122900,  84500, 190000, 142500, 165000,\n",
       "       132500,  81000, 289000, 100000, 197000, 154000, 143250, 140000,\n",
       "       290000, 177000, 181500, 109000, 250000, 239000, 325000, 120500,\n",
       "       118500, 155000, 197000, 235000,  93000, 207500, 112000, 150750,\n",
       "       107900, 153500, 137500,  88000,  52000,  82500, 124500, 186500,\n",
       "       248000, 302000, 228500, 108000, 205000,  94500, 142000, 196500,\n",
       "       205950, 257500, 203000, 109900, 214000, 129900, 194000, 227000,\n",
       "       179200, 158000, 235000, 122000, 164000, 155900, 281213, 142500,\n",
       "       170000,  34900, 140000, 252678, 105900, 149900, 110000, 165500,\n",
       "       137500, 109900, 110000, 144152, 134800, 147000, 133000, 112000,\n",
       "       185000, 173000, 109500, 113000, 210000, 225000, 190000, 130500,\n",
       "        91000,  79500, 255500, 155000, 232000, 167500, 160000,  79000,\n",
       "       143000, 110000,  93000, 135750,  97000,  98600, 260400, 240000,\n",
       "       264132, 207000, 135000, 274300, 132500, 149900, 169000, 133000,\n",
       "       205000, 277000, 185000, 145000, 177000, 192500, 214900, 260000,\n",
       "       187500, 139000, 237000, 260000, 107500,  87000, 187500, 148000,\n",
       "       189000, 200624, 167900, 187500, 127500, 134432, 106000, 189000,\n",
       "       466500, 213000, 147000, 192000, 159000, 290000, 140000, 213500,\n",
       "        97500, 130000, 265979,  79000,  60000, 203000, 186000, 124000,\n",
       "       130000, 133000, 220000, 206900, 189000,  87500, 341000, 200000,\n",
       "       175000, 191000, 204900, 121600, 125000, 109500, 147000, 181000,\n",
       "       160200, 475000, 204750, 187100, 108000, 108000, 410000, 133900,\n",
       "       278000, 235000, 128000, 125000, 175900, 155000, 158900, 172500,\n",
       "       181000, 120500, 151000, 143500, 180500, 162500, 170000, 107000,\n",
       "       119000, 197900, 136500, 119000, 185850, 185000, 160000, 239000,\n",
       "       336000, 280000, 250000, 130000, 131000, 380000, 127000,  97000,\n",
       "       160000, 240000, 143500, 191000, 370878,  91500, 143000, 271000,\n",
       "       201000, 139000, 219500, 256000, 222500, 225000, 207500, 235000,\n",
       "       185000, 148000, 155000, 274970, 115000, 144000, 280000, 155000,\n",
       "       133000, 172500, 385000, 167500, 179900, 110000, 250580, 348000,\n",
       "       285000, 158000, 214000, 112000, 236500,  93500,  85000, 369900,\n",
       "       168500, 115000, 264561, 129500,  83000, 173500, 135000, 123000,\n",
       "       135000, 119000, 240000, 242000, 135000, 137500, 285000, 223000,\n",
       "       227000, 402000, 163000,  86000, 377426, 202500, 173000, 117500,\n",
       "       204000, 274725, 172785, 181900, 320000, 265000, 168500, 235128,\n",
       "       287000, 136905, 133500, 227680, 112500, 107400, 112000, 153900,\n",
       "       383970, 214000, 153000,  80000, 128200, 137900, 223500, 195000,\n",
       "       193500, 215000, 265900, 437154, 143900, 148000, 372500, 197900,\n",
       "       139000, 118964, 125000, 193500, 201000, 275000, 151000,  82500,\n",
       "       105000, 311872, 140000, 392000, 180000, 149000, 106500, 106250,\n",
       "       129500, 315000, 320000, 122000, 142500, 214000, 215000, 139400,\n",
       "       130000, 205000, 315750, 135000, 115000, 200000, 127000, 184000,\n",
       "       149900, 192000, 275000,  55993, 143000, 218000, 116500, 227000,\n",
       "       244400, 139000, 241500, 142000, 119000, 235000, 266000, 280000,\n",
       "       140000, 240000, 275000, 155000,  89500, 175500, 109008, 109000,\n",
       "       127000,  89471,  97000, 142000, 381000, 140000, 244000, 145250,\n",
       "       117500, 127500, 147500, 156000,  87000, 180000, 248328, 160000,\n",
       "       228950, 168000,  75500, 123000, 140000, 281000, 139400, 139950,\n",
       "       190000, 135000, 138887, 287090, 307000, 118400, 115000, 174000,\n",
       "       123000, 128950, 233000, 100000, 250000, 214500, 440000,  82500,\n",
       "       159434, 122500, 189000, 144000, 170000, 231500, 188500, 242000,\n",
       "       144000, 128000, 284000, 152000,  96500, 165400, 126500,  79900,\n",
       "       176000,  90350, 163990,  85000, 259000, 130000, 337500, 187500,\n",
       "        67000, 110000, 202500, 192000, 214000, 118000, 141000,  75000,\n",
       "       176000, 187000, 210000, 190000, 225000, 132250, 392500, 193000,\n",
       "       187000, 278000, 108959, 121000, 246578, 262500, 165000, 147000,\n",
       "       179000,  40000, 200000, 217000, 156000,  88000, 200141, 184100,\n",
       "       229456, 173000,  91300, 124000, 113000, 162000, 145000,  61000,\n",
       "       319000, 310000, 206300, 148000, 128500, 113000, 210000, 333168,\n",
       "       438780, 192140, 119900, 260000, 112000,  94750, 147000,  73000,\n",
       "       118000, 125000, 160000, 415298, 232600, 253000, 129000, 286000,\n",
       "       109500, 170000, 176500, 115000, 163000, 149500, 174500, 190000,\n",
       "       230000, 145000, 154000, 142600, 110000, 165500, 120000, 134500,\n",
       "       230000, 270000, 110500, 195400, 128500, 149500, 125500, 102776,\n",
       "       208300, 130000, 167500, 115000, 192000, 145000, 176000, 161500,\n",
       "       220000, 180500, 179400, 137500, 100000, 394432, 120000, 129900,\n",
       "       446261, 186700, 164900, 234000, 128000, 118000, 177500, 189000,\n",
       "       165000, 125000, 340000, 153000, 159000, 239500, 119200, 313000,\n",
       "       426000, 146500, 167000, 185000, 155000, 140200, 250000, 197500,\n",
       "       145000, 140000, 131400, 182900, 290000, 170000, 115000, 165000,\n",
       "       136000, 173733, 128000])"
      ]
     },
     "execution_count": 31,
     "metadata": {},
     "output_type": "execute_result"
    }
   ],
   "source": [
    "Y_train1"
   ]
  },
  {
   "cell_type": "markdown",
   "metadata": {},
   "source": [
    "<H2>5. 変数の選択</H2>"
   ]
  },
  {
   "cell_type": "code",
   "execution_count": 32,
   "metadata": {},
   "outputs": [],
   "source": [
    "# 変数増加法を実行する関数\n",
    "def get_gfs_feature_indices(X, Y, features, clf):\n",
    "    X_train_, X_test_, Y_train_, Y_test_ = \\\n",
    "        train_test_split(X, Y, test_size=0.3, random_state=1234)\n",
    "    feature_indices = {feature: idx for idx, feature in enumerate(features)}\n",
    "    features = set(features)\n",
    "    last_mse = np.inf\n",
    "    chosen_features = set()\n",
    "    while len(chosen_features) < len(features):\n",
    "        mse_features = []\n",
    "        for feature in (features - chosen_features):\n",
    "            candidates = chosen_features.union(set([feature]))\n",
    "            indices = [feature_indices[feature] for feature in candidates]\n",
    "            clf.fit(X_train_[:, indices], Y_train_)\n",
    "            Y_pred = clf.predict(X_test_[:, indices])\n",
    "            mse = mean_squared_error(Y_test_, Y_pred)\n",
    "            mse_features += [(mse, feature)]\n",
    "        mse, feature = min(mse_features)\n",
    "        if mse >= last_mse:\n",
    "            break\n",
    "        last_mse = mse\n",
    "        print('NewlY Added Feature: {},\\tMSE Score: {}'.format(feature, mse))\n",
    "        chosen_features.add(feature)\n",
    "    return [feature_indices[feature] for feature in chosen_features]"
   ]
  },
  {
   "cell_type": "code",
   "execution_count": 33,
   "metadata": {
    "scrolled": false
   },
   "outputs": [
    {
     "name": "stdout",
     "output_type": "stream",
     "text": [
      "NewlY Added Feature: OverallQual,\tMSE Score: 1553565643.9704814\n",
      "NewlY Added Feature: GarageCars,\tMSE Score: 1228797598.6873274\n",
      "NewlY Added Feature: GrLivArea,\tMSE Score: 974023939.4343857\n",
      "NewlY Added Feature: TotalBsmtSF,\tMSE Score: 809429158.3424864\n",
      "NewlY Added Feature: BsmtFinSF1,\tMSE Score: 738387674.9587477\n",
      "NewlY Added Feature: YearBuilt,\tMSE Score: 698717993.8159754\n",
      "NewlY Added Feature: HalfBath,\tMSE Score: 669713691.5382446\n",
      "NewlY Added Feature: 2ndFlrSF,\tMSE Score: 664652774.2209917\n",
      "NewlY Added Feature: OverallCond,\tMSE Score: 657000208.8618894\n",
      "NewlY Added Feature: BedroomAbvGr,\tMSE Score: 600197681.1252444\n"
     ]
    }
   ],
   "source": [
    "# 上記関数を使用して変数増加法を実行し、MSEを算出\n",
    "selected_feature_index = \\\n",
    "get_gfs_feature_indices(X=X_train, Y=Y_train, features=feature_cols, clf=RandomForestRegressor(random_state=1234))\n"
   ]
  },
  {
   "cell_type": "markdown",
   "metadata": {},
   "source": [
    "<H2>6. ハイパーパラメータのチューニング</H2>"
   ]
  },
  {
   "cell_type": "code",
   "execution_count": 44,
   "metadata": {},
   "outputs": [
    {
     "name": "stdout",
     "output_type": "stream",
     "text": [
      "Fitting 3 folds for each of 9 candidates, totalling 27 fits\n"
     ]
    },
    {
     "name": "stderr",
     "output_type": "stream",
     "text": [
      "[Parallel(n_jobs=1)]: Done  27 out of  27 | elapsed:    3.3s finished\n"
     ]
    },
    {
     "data": {
      "text/plain": [
       "{'max_depth': 50, 'n_estimators': 100}"
      ]
     },
     "execution_count": 44,
     "metadata": {},
     "output_type": "execute_result"
    }
   ],
   "source": [
    "# 木の数：[10, 50, 100], 木の深さ:[5, 10, 50]でパラメータをチューニング\n",
    "rf = RandomForestRegressor(n_estimators=100, max_depth=50, random_state=1234)\n",
    "params = {\"n_estimators\": [10, 50, 100], \"max_depth\": [5, 10, 50]}\n",
    "gscv = GridSearchCV(rf, param_grid=params, verbose=1, cv=3, scoring='neg_mean_squared_error')\n",
    "gscv.fit(X_train1[:, selected_feature_index], Y_train1)\n",
    "gscv.best_params_"
   ]
  },
  {
   "cell_type": "code",
   "execution_count": 45,
   "metadata": {},
   "outputs": [
    {
     "name": "stdout",
     "output_type": "stream",
     "text": [
      "RandomForest MSE:  849312341.5951865\n"
     ]
    }
   ],
   "source": [
    "# チューニング後のランダムフォレストで再びMSEを算出し、精度を確認\n",
    "rf = RandomForestRegressor(n_estimators=100, max_depth=50, random_state=1234)\n",
    "rf.fit(X_train1[:,selected_feature_index ], Y_train1)\n",
    "Y_pred2 = rf.predict(X_train2[:, selected_feature_index])\n",
    "rf_mse = mean_squared_error(Y_train2, Y_pred2)\n",
    "print('RandomForest MSE: ', rf_mse)"
   ]
  },
  {
   "cell_type": "markdown",
   "metadata": {},
   "source": [
    "<H2>7. モデルの評価</H2>"
   ]
  },
  {
   "cell_type": "code",
   "execution_count": 48,
   "metadata": {
    "scrolled": true
   },
   "outputs": [
    {
     "name": "stdout",
     "output_type": "stream",
     "text": [
      "RandomForest MSE:  1554466426.9424717\n"
     ]
    }
   ],
   "source": [
    "# Test dataを用いてMSEを算出し、予測精度を確認\n",
    "rf = RandomForestRegressor(n_estimators=100, max_depth=50, random_state=1234)\n",
    "rf.fit(X_train[:, selected_feature_index], Y_train)\n",
    "Y_pred_on_test = rf.predict(X_test[:, selected_feature_index])\n",
    "rf_mse = mean_squared_error(Y_test, Y_pred_on_test)\n",
    "print('RandomForest MSE: ', rf_mse)"
   ]
  },
  {
   "cell_type": "markdown",
   "metadata": {},
   "source": [
    "<H2>8. エラー分析</H2>"
   ]
  },
  {
   "cell_type": "code",
   "execution_count": 50,
   "metadata": {},
   "outputs": [
    {
     "data": {
      "text/plain": [
       "<matplotlib.collections.PathCollection at 0x7fb237d259e8>"
      ]
     },
     "execution_count": 50,
     "metadata": {},
     "output_type": "execute_result"
    },
    {
     "data": {
      "image/png": "[encoded data removed]",
      "text/plain": [
       "<Figure size 432x288 with 1 Axes>"
      ]
     },
     "metadata": {
      "needs_background": "light"
     },
     "output_type": "display_data"
    }
   ],
   "source": [
    "# 横軸：実際の成約価格、縦軸：予測した成約価格で散布図を作成し予測の誤差を確認\n",
    "plt.scatter(Y_test, Y_pred_on_test)\n",
    "\n",
    "#横軸に政界の成約価格、縦軸に予測した成約価格をとると、どのあたりの価格帯で誤差が大きくなるかがわかります。\n",
    "#この図を見ると、価格が大きくなるにつれて外れているので、高級住宅の特徴を捉える変数が必要かもしれないといった\n",
    "#新しい仮説を立てることができる。\n",
    "#(※本の本文抜出)"
   ]
  },
  {
   "cell_type": "code",
   "execution_count": 52,
   "metadata": {},
   "outputs": [
    {
     "name": "stdout",
     "output_type": "stream",
     "text": [
      "Mean:  -0.027398865251236117\n",
      "std:  0.2328357338966663\n"
     ]
    },
    {
     "data": {
      "image/png": "[encoded data removed]",
      "text/plain": [
       "<Figure size 432x288 with 1 Axes>"
      ]
     },
     "metadata": {
      "needs_background": "light"
     },
     "output_type": "display_data"
    }
   ],
   "source": [
    "# 実際の成約価格と予測価格の誤差率をヒストグラムで表示\n",
    "error_rate = (Y_test - Y_pred_on_test)/Y_test\n",
    "plt.hist(error_rate)\n",
    "print('Mean: ', np.mean(error_rate))\n",
    "print('std: ', np.std(error_rate))\n",
    "\n",
    "#これをみると茣蓙が±ゼロ付近に集中しているが、-0.5以上開きがあるものがいくつかある。\n",
    "#これらが何かを調査して、分析するとより精度の高いモデルを作れるようになる。"
   ]
  },
  {
   "cell_type": "code",
   "execution_count": null,
   "metadata": {},
   "outputs": [],
   "source": []
  },
  {
   "cell_type": "code",
   "execution_count": null,
   "metadata": {},
   "outputs": [],
   "source": []
  },
  {
   "cell_type": "code",
   "execution_count": null,
   "metadata": {},
   "outputs": [],
   "source": []
  }
 ],
 "metadata": {
  "anaconda-cloud": {},
  "kernelspec": {
   "display_name": "Python 3",
   "language": "python",
   "name": "python3"
  },
  "language_info": {
   "codemirror_mode": {
    "name": "ipython",
    "version": 3
   },
   "file_extension": ".py",
   "mimetype": "text/x-python",
   "name": "python",
   "nbconvert_exporter": "python",
   "pygments_lexer": "ipython3",
   "version": "3.6.5"
  }
 },
 "nbformat": 4,
 "nbformat_minor": 2
}
